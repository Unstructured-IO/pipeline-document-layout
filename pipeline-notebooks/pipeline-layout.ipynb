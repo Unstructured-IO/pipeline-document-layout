{
 "cells": [
  {
   "cell_type": "markdown",
   "id": "3931743a",
   "metadata": {},
   "source": [
    "# Hello World Pipeline"
   ]
  },
  {
   "cell_type": "markdown",
   "id": "757bd7cd",
   "metadata": {},
   "source": [
    "## Section 1: Introduction\n",
    "\n",
    "The goal of this notebook is to show how you can turn a notebook into an API."
   ]
  },
  {
   "cell_type": "markdown",
   "id": "e21660e2",
   "metadata": {},
   "source": [
    "## Section 2: Pipeline API"
   ]
  },
  {
   "cell_type": "code",
   "execution_count": null,
   "id": "ef0b7cb5",
   "metadata": {},
   "outputs": [],
   "source": [
    "# pipeline-api\n",
    "message = 'hello world'"
   ]
  },
  {
   "cell_type": "code",
   "execution_count": null,
   "id": "7cb5e00b",
   "metadata": {},
   "outputs": [],
   "source": [
    "# pipeline-api\n",
    "def pipeline_api(\n",
    "    file,\n",
    "    file_content_type=None,\n",
    "    m_some_parameters=[],\n",
    "):\n",
    "    from layoutparser.models import Detectron2LayoutModel\n",
    "    from PIL import Image\n",
    "    from pdf2image import convert_from_bytes\n",
    "    model = Detectron2LayoutModel(\n",
    "        config_path=\"lp://PubLayNet/faster_rcnn_R_50_FPN_3x/config\",  # In model catalog\n",
    "        label_map={\n",
    "            0: \"Text\",\n",
    "            1: \"Title\",\n",
    "            2: \"List\",\n",
    "            3: \"Table\",\n",
    "            4: \"Figure\",\n",
    "        },  # In model`label_map`\n",
    "        extra_config=[\"MODEL.ROI_HEADS.SCORE_THRESH_TEST\", 0.8],  # Optional\n",
    "    )\n",
    "\n",
    "    if file_content_type=='image/png':\n",
    "        img = Image.open(file)\n",
    "        detections = model.detect(img)\n",
    "    if file_content_type=='application/pdf':\n",
    "        pages = convert_from_bytes(file.read(), 500)\n",
    "        results= []\n",
    "        for page in pages:\n",
    "            detections = model.detect(page)\n",
    "            results.append(detections)\n",
    "        return results"
   ]
  },
  {
   "cell_type": "code",
   "execution_count": null,
   "id": "0400f975",
   "metadata": {},
   "outputs": [],
   "source": []
  }
 ],
 "metadata": {
  "kernelspec": {
   "display_name": "Python 3.8.13 64-bit ('layout')",
   "language": "python",
   "name": "python3"
  },
  "language_info": {
   "name": "python",
   "version": "3.8.13"
  },
  "vscode": {
   "interpreter": {
    "hash": "6358e413b35e2dc30447748febfd552fa320e8d296488588f27535ab958f864a"
   }
  }
 },
 "nbformat": 4,
 "nbformat_minor": 5
}
