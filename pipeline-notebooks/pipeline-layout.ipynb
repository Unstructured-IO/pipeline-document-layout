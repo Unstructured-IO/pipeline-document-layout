{
 "cells": [
  {
   "cell_type": "markdown",
   "id": "3931743a",
   "metadata": {},
   "source": [
    "# Hello World Pipeline"
   ]
  },
  {
   "cell_type": "markdown",
   "id": "757bd7cd",
   "metadata": {},
   "source": [
    "## Section 1: Introduction\n",
    "\n",
    "The goal of this notebook is to show how you can turn a notebook into an API."
   ]
  },
  {
   "cell_type": "markdown",
   "id": "e21660e2",
   "metadata": {},
   "source": [
    "## Section 2: Pipeline API"
   ]
  },
  {
   "cell_type": "code",
   "execution_count": null,
   "id": "ef0b7cb5",
   "metadata": {},
   "outputs": [],
   "source": [
    "# pipeline-api\n",
    "from unstructured_inference.inference.layout import process_data_with_model\n",
    "from unstructured_inference.models.base import UnknownModelException\n",
    "from fastapi import HTTPException"
   ]
  },
  {
   "cell_type": "code",
   "execution_count": null,
   "id": "1b3b00cb",
   "metadata": {},
   "outputs": [],
   "source": [
    "from fastapi import status,Form\n",
    "from typing import List"
   ]
  },
  {
   "cell_type": "code",
   "execution_count": null,
   "id": "a64f0e80",
   "metadata": {},
   "outputs": [],
   "source": [
    "# pipeline-api\n",
    "ALL_ELEMS = \"_ALL\"\n",
    "VALID_FILETYPES = [\"application/pdf\", \"image/png\"]\n",
    "\n",
    "def pipeline_api(\n",
    "    file,\n",
    "    file_content_type=None,\n",
    "    m_model_type = [],\n",
    "    m_force_ocr=[],\n",
    "    m_include_elems= [],\n",
    "\n",
    "):\n",
    "    if file_content_type not in VALID_FILETYPES:\n",
    "        raise HTTPException(status.HTTP_404_NOT_FOUND)\n",
    "\n",
    "    is_image = file_content_type == \"image/png\"\n",
    "    model = None  if m_model_type == [] else m_model_type[0]\n",
    "    ocr_strategy = \"force\" if m_force_ocr else \"auto\"\n",
    "    try:\n",
    "        layout = process_data_with_model(\n",
    "            file, model, is_image, ocr_strategy=ocr_strategy\n",
    "        )  # type: ignore\n",
    "    except UnknownModelException as e:\n",
    "        raise HTTPException(status.HTTP_422_UNPROCESSABLE_ENTITY, str(e))\n",
    "    pages_layout = [\n",
    "        {\n",
    "            \"number\": page.number,\n",
    "            \"elements\": [\n",
    "                element.to_dict()\n",
    "                for element in page.elements\n",
    "                if element.type in m_include_elems or m_include_elems == ALL_ELEMS\n",
    "            ],\n",
    "        }\n",
    "        for page in layout.pages\n",
    "    ]\n",
    "\n",
    "    return {\"pages\": pages_layout}"
   ]
  }
 ],
 "metadata": {
  "kernelspec": {
   "display_name": "python3",
   "language": "python",
   "name": "python3"
  }
 },
 "nbformat": 4,
 "nbformat_minor": 5
}
